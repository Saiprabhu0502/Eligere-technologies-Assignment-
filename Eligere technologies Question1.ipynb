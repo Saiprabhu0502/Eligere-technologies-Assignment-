{
 "cells": [
  {
   "cell_type": "markdown",
   "id": "1d480dc4",
   "metadata": {},
   "source": [
    "Question1: Write a program to find whether a given number is a perfect number or not. \n",
    "A perfect number is a posi ve number that is equal to the sum of all its divisors (excluding itself). \n",
    "Example:  \n",
    "Input: 28 \n",
    "Divisors: [1, 2, 4, 7, 14]  \n",
    "Sum: 1 + 2 + 4 + 7 + 14 = 28  \n",
    "Output: 28 is a perfect number."
   ]
  },
  {
   "cell_type": "code",
   "execution_count": 14,
   "id": "3e630054",
   "metadata": {},
   "outputs": [
    {
     "name": "stdout",
     "output_type": "stream",
     "text": [
      "Input: 14\n",
      "Divisors: [1, 2, 7]\n",
      "Sum: 1 + 2 + 7 = 28\n",
      "Output: 14 is not a perfect number.\n"
     ]
    }
   ],
   "source": [
    "import math\n",
    "def perfect_number(num):\n",
    "    divisors= [1]\n",
    "    sum_divisors= 1\n",
    "    for i in range(2,math.isqrt(num)+1):\n",
    "        if num%i== 0:\n",
    "            divisors.append(i)\n",
    "            sum_divisors+= i\n",
    "            if i!=num// i:\n",
    "                divisors.append(num//i)\n",
    "                sum_divisors+=num//i\n",
    "    divisors.sort()\n",
    "    if sum_divisors== num:\n",
    "        return True, divisors, sum_of_divisors\n",
    "    else:\n",
    "        return False, divisors, sum_of_divisors\n",
    "number = int(input(\"Input: \"))\n",
    "is_perfect, divisors, sum_divisors = perfect_number(number)\n",
    "if is_perfect:\n",
    "    print(\"Divisors:\", divisors)\n",
    "    print(\"Sum:\", ' + '.join(map(str, divisors)), \"=\", sum_of_divisors)\n",
    "    print(\"Output:\", number, \"is a perfect number.\")\n",
    "else:\n",
    "    print(\"Divisors:\", divisors)\n",
    "    print(\"Sum:\", ' + '.join(map(str, divisors)), \"=\", sum_of_divisors)\n",
    "    print(\"Output:\", number, \"is not a perfect number.\")"
   ]
  },
  {
   "cell_type": "code",
   "execution_count": 4,
   "id": "90554745",
   "metadata": {},
   "outputs": [
    {
     "name": "stdout",
     "output_type": "stream",
     "text": [
      "Enter any number: 28\n",
      "28  is a perfect number.\n"
     ]
    }
   ],
   "source": [
    "n = int(input(\"Enter any number: \"))\n",
    "sum1 = 0\n",
    "for i in range(1, n):\n",
    "    if(n % i == 0):\n",
    "        sum1 = sum1 + i\n",
    "if (sum1 == n):\n",
    "    print(n, \" is a perfect number.\")\n",
    "else:\n",
    "    print(n, \" is not a perfect number.\")"
   ]
  },
  {
   "cell_type": "code",
   "execution_count": null,
   "id": "e1eea12b",
   "metadata": {},
   "outputs": [],
   "source": []
  }
 ],
 "metadata": {
  "kernelspec": {
   "display_name": "Python 3 (ipykernel)",
   "language": "python",
   "name": "python3"
  },
  "language_info": {
   "codemirror_mode": {
    "name": "ipython",
    "version": 3
   },
   "file_extension": ".py",
   "mimetype": "text/x-python",
   "name": "python",
   "nbconvert_exporter": "python",
   "pygments_lexer": "ipython3",
   "version": "3.9.13"
  }
 },
 "nbformat": 4,
 "nbformat_minor": 5
}
